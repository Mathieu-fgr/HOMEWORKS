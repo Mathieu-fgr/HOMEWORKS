{
 "cells": [
  {
   "cell_type": "markdown",
   "metadata": {},
   "source": [
    "### Question 1 File handilng\n",
    "\n",
    "- Write a Python script that opens the file and prints the number of channels (rows).\n",
    "\n",
    "- Add error handling with try-except in case the file doesn’t exist."
   ]
  },
  {
   "cell_type": "code",
   "execution_count": null,
   "metadata": {},
   "outputs": [],
   "source": [
    "# first, we need to import the necessary modules \n",
    "import csv\n",
    "import json"
   ]
  },
  {
   "cell_type": "code",
   "execution_count": 1,
   "metadata": {},
   "outputs": [
    {
     "name": "stdout",
     "output_type": "stream",
     "text": [
      "Number of channels (rows): 1000\n"
     ]
    }
   ],
   "source": [
    "#your code here \n",
    "def count_channels():\n",
    "    try:\n",
    "        with open(\"twitchdata-update.csv\", \"r\", encoding=\"utf-8\") as file:\n",
    "            next(file) \n",
    "            line_count = sum(1 for _ in file) \n",
    "        print(f\"Number of channels (rows): {line_count}\")\n",
    "\n",
    "    except FileNotFoundError:\n",
    "        print(\"The file 'twitchdata-update.csv' doesn't exist.\")\n",
    "\n",
    "count_channels()"
   ]
  },
  {
   "cell_type": "markdown",
   "metadata": {},
   "source": [
    "### Question 2 Basic exploration of the dataset\n",
    "- Print the list of all unique languages in the dataset. Hint: use the function ```set()```\n",
    "\n",
    "- Count how many channels are partnered ```(Partnered = True).```\n",
    "\n",
    "- Find the total number of followers across all channels."
   ]
  },
  {
   "cell_type": "code",
   "execution_count": 3,
   "metadata": {},
   "outputs": [
    {
     "name": "stdout",
     "output_type": "stream",
     "text": [
      "{'Slovak', 'Swedish', 'Chinese', 'Finnish', 'Polish', 'Spanish', 'French', 'Greek', 'Portuguese', 'Korean', 'German', 'Japanese', 'Turkish', 'Czech', 'Hungarian', 'Russian', 'Other', 'Thai', 'Arabic', 'English', 'Italian'}\n",
      "0\n",
      "570054068\n"
     ]
    }
   ],
   "source": [
    "#your code here \n",
    "import csv\n",
    "def analyze_twitch_data():\n",
    "    try:\n",
    "        with open(\"twitchdata-update.csv\", \"r\", encoding=\"utf-8\") as file:\n",
    "            reader = csv.reader(file)\n",
    "            next(reader)\n",
    "\n",
    "            languages = set()\n",
    "            partnered_count = 0\n",
    "            total_followers = 0\n",
    "\n",
    "            for row in reader:\n",
    "                if len(row) > 5:\n",
    "                    languages.add(row[-1])\n",
    "\n",
    "                    if row[3].strip().lower() == \"true\": \n",
    "                        partnered_count += 1\n",
    "\n",
    "                    total_followers += int(row[5]) if row[5].isdigit() else 0\n",
    "\n",
    "        print(languages)\n",
    "        print(partnered_count)\n",
    "        print(total_followers)\n",
    "\n",
    "    except FileNotFoundError:\n",
    "        print(\"The file 'twitchdata-update.csv' doesn't exist.\")\n",
    "\n",
    "analyze_twitch_data()"
   ]
  },
  {
   "cell_type": "markdown",
   "metadata": {},
   "source": [
    "### Question 3: Sorting and filtering data\n",
    "- Sort the channels by Watch time (minutes) in descending order and print the top 5.\n",
    "\n",
    "- Sort the channels by Followers gained in descending order.\n",
    "\n",
    "- Compare your custom sorting algorithm (e.g., selection sort) with Python’s built-in ```sorted().```\n",
    "\n",
    "**Selection Sort** is a simple comparison-based sorting algorithm.  \n",
    "It works by **repeatedly finding the minimum element** from the unsorted portion of the list and placing it at the beginning.\n",
    "\n",
    "### Steps:\n",
    "1. Start with the first element of the list.\n",
    "2. Search the entire list (or the unsorted portion) to find the smallest element.\n",
    "3. Swap this smallest element with the element at the current position.\n",
    "4. Move the boundary of the sorted portion one step to the right.\n",
    "5. Repeat until the list is fully sorted.\n",
    "\n",
    "### Example:\n",
    "For the list `[29, 10, 14, 37, 13]`:\n",
    "- Pass 1: Smallest element is `10`. Swap with `29` → `[10, 29, 14, 37, 13]`\n",
    "- Pass 2: Smallest in the remaining portion is `13`. Swap with `29` → `[10, 13, 14, 37, 29]`\n",
    "- Pass 3: Smallest is `14`. No swap needed → `[10, 13, 14, 37, 29]`\n",
    "- Pass 4: Smallest is `29`. Swap with `37` → `[10, 13, 14, 29, 37]`\n",
    "- Sorted list achieved."
   ]
  },
  {
   "cell_type": "code",
   "execution_count": 6,
   "metadata": {},
   "outputs": [
    {
     "name": "stdout",
     "output_type": "stream",
     "text": [
      "{'xQcOW': 6196161750.0, 'summit1g': 6091677300.0, 'Gaules': 5644590915.0, 'ESL_CSGO': 3970318140.0, 'Tfue': 3671000070.0}\n"
     ]
    }
   ],
   "source": [
    "file2 = open(\"twitchdata-update.csv\", \"r\", encoding=\"utf-8\")\n",
    "data = []\n",
    "next(file2)\n",
    "for ligne in file2:\n",
    "        liste = ligne.strip()\n",
    "        parties = liste.split(\",\")\n",
    "        watch_time = int(parties[1])\n",
    "        data.append(watch_time)\n",
    "\n",
    "def selection_sort(data):\n",
    "    arr = data[:]  # copy (shallow)\n",
    "    cinq_premiers = []\n",
    "    for index in range(len(data)-1):\n",
    "        for reste in range(index+1,len(data)):\n",
    "            if arr[index] < arr[reste]:\n",
    "                arr[index],arr[reste] = arr[reste],arr[index]\n",
    "    #Complete the code \n",
    "    liste_topcinq_watch = []\n",
    "    for i in range(5):\n",
    "         liste_topcinq_watch.append(arr[i])\n",
    "\n",
    "    \n",
    "    file2_bis = open(\"twitchdata-update.csv\", \"r\", encoding=\"utf-8\")\n",
    "    next(file2_bis)\n",
    "    indice = 0\n",
    "    dico_topcinq_streamer = {}\n",
    "    for phrase in file2_bis:\n",
    "        listebis = phrase.strip()\n",
    "        vrliste = phrase.split(\",\")\n",
    "        if float(liste_topcinq_watch[indice]) == float(vrliste[1]):\n",
    "                dico_topcinq_streamer[vrliste[0]] = float(vrliste[1])\n",
    "                indice += 1\n",
    "        if indice == 5:\n",
    "             break\n",
    "    return dico_topcinq_streamer\n",
    "    \n",
    "         \n",
    "         \n",
    "print(selection_sort(data))\n"
   ]
  },
  {
   "cell_type": "code",
   "execution_count": 7,
   "metadata": {},
   "outputs": [
    {
     "name": "stdout",
     "output_type": "stream",
     "text": [
      "['auronplay', 'Rubius', 'TheGrefg', 'Bugha', 'pokimane', 'Tfue', 'Fresh', 'SLAKUN10', 'xQcOW', 'Clix', 'ibai', 'Anomaly', 'benjyfishy', 'Mongraal', 'NickEh30', 'Myth', 'NOBRU', 'summit1g', 'alanzoka', 'TimTheTatman', 'Ampeterby7', 'Fortnite', 'Alexby11', 'SypherPK', 'elded', 'MontanaBlack88', 'NICKMERCS', 'TheRealKnossi', 'coscu', 'buster', 'x2Twins', 'Gaules', 'loltyler1', 'juansguarnizo', 'Squeezie', 'UnknownxArmy', 'shroud', 'Evelone192', 'DrDisrespect', 'bysTaXx', 'Loserfruit', 'aceu', 'ElcanaldeJoaco', 'Faker', 's1mple', 'MrSavage', 'CallMeCarsonLIVE', 'scoped', 'Vicens', 'moistcr1tikal', 'Swagg', 'Flight23white', 'Symfuhny', 'ESL_CSGO', 'Yassuo', 'Letshe', 'Reborn_Live', 'Elraenn', 'shongxbong', 'Perxitaa', 'ONSCREEN', 'Pimpeano', 'lilypichu', 'TheKAIRI78', 'Brunenger', 'TwitchRivals', 'MarkitoNavaja', 'Gotaga', 'ChicaLive', 'bytarifaaa', 'EmadGG', 'k1ng', 'Doigby', 'Llobeti4', 'miniminter', 'Trymacs', 'UNLOSTV', 'DrLupo', 'wtcN', 'LITkillah', 'cloakzy', 'Asmongold', 'Papaplatte', 'LEC', 'Castro_1021', 'BarcaGamer', 'Cellbit', 'Amouranth', 'Staryuuki', 'LCS', 'Pestily', 'Rakin', 'Sweet_Anita', 'ludwig', 'Riot Games (riotgames)', 'POW3Rtv', 'FFearFFul', 'INSCOPE21TV', 'dakotaz', 'KendineMuzisyen', 'Hiko', 'RakanooLive', '39daph', 'Locklear', 'Dementardo', 'natalan', 'landonorris', 'DavyJones', 'Sfory', 'TFBlade', 'Replays', 'NateHill', 'csgomc_ru', 'SolaryFortnite', 'ilMasseo', 'ElRichMC', 'Rainbow6', 'Nadeshot', 'EASPORTSFIFA', 'Fextralife', 'Aydan', 'GMHikaru', 'RobertoCein', 'FolagorLives', 'MarkiLokurasY', 'RocketLeague', 'ixxYjYxxi', 'Greekgodx', 'blxckoutz', 'bratishkinoff', 'RiceGum', 'YoDa', 'Trainwreckstv', 'AustinShow', 'Conterstine', 'Zerkaa', 'rewinside', 'Mithrain', 'zEkO', 'Sardoche', '괴물쥐123 (tmxk319)', 'Mizkif', 'Baiano', 'Peereira7', 'forever', 'LuluLuvely', 'Frankkaster', 'iklooode25', 'jukes', 'LeBouseuh', 'Patriota', 'HasanAbi', 'Loeya', 'Scarra', 'Dmitry_Lixxx', 'Rammus53', 'Kitboga', 'pqueen', 'RiotGamesBrazil', 'ZanoXVII', 'bazattak007', 'ELoTRiX', 'BLASTPremier', '72hrs', 'RTGameCrowd', 'LCK', 'Sykkuno', 'mokrivskyi', 'karavay46', 'jovirone', 'Xiuder_', 'EFEUYGAC', 'calango', 'Philza', 'Stewie2K', 'HusKerrs', 'WARDELL', 'TSM_ImperialHal', 'IzakOOO', 'FEDMYSTER', 'ZLOYn', 'Felps', 'Warframe', 'brax', 'Syndicate', 'SkipNhO', 'Amar', 'berkriptepe', 'yeTz', 'BotezLive', 'LPL', 'innocents', 'JLTomy', 'JeelTV', 'Domingo', 'DreamHackCS', 'scump', 'WankilStudio', 'Chap', 'AntoineDanielLive', 'Mixwell', 'SkipNhOLIVE', 'Jankos', '강지 (rkdwl12)', 'caps', 'Diegosaurs', 'jean_mago', 'm0xyy', 'orslok', 'AnniTheDuck', 'JonVlogs', 'StarLadder_cs_en', 'Mickalow', 'StRoGo', 'TheRealMarzaa', 'AlpTV', 'hardgamechannel', 'MckyTV', 'Alinity', 'LCK_Korea', 'bateson87', 'sleepy', 'pimpimenta', 'HunterGodBr', 'ops1x', '1DrakoNz', 'Smurfdomuca', 'Tyceno', 'KingGeorge', 'chocoTaco', 'cacho01', 'Homyatol', 'RATIRL', 'BrookeAB', 'Jahrein', 'JLWaliid', '오킹 (obm1025)', 'LVNDMARK', 'WePlayEsport_RU', 'ROSHTEIN', 'Mibrtv', 'Pengu', 'ZeratoR', 'dinablin', 'Skyyart', 'TeePee', 'CriticalRole', 'goncho', 'Tumblurr', 'sodapoppin', 'BastiGHG', 'Maghla', 'Mushway', 'IrmanPlay', 'EWROON', 'iGeStarK', 'Sev7n', 'Twitch', 'DanucD', 'Cizzorz', 'Kamet0', 'MatteoHS', 'ReventXz', 'Tanovich', 'Skadoodle', 'IamCristinini', 'SmallAnt', 'Albralelie', 'SkyrrozTV', 'BobRoss', 'EsfandTV', 'Xayoo_', 'XEWER', 'SovietWomble', 'Nikolarn', 'Jinnytty', 'ziGueira', 'alexelcapo', 'JohnPitterTV', 'Broxah', 'Heelmike', 'NeZaK_', '우왁굳 (woowakgood)', 'Kandyland', 'Elwind', 'LIRIK', 'Stray228', 'Ponce', 'SparkofPhoenixTV', 'MacieJay', 'RebeuDeter', 'modestal', 'aXtLOL', 'DisguisedToast', 'MinosTV_', 'GRONKH', 'MenosTrece', 'ElmiilloR', 'hastad', 'x6FlipiN', 'Gosu', 'KamoLRF', 'sneakylol', 'ESL_CSGOb', 'fl0m', 'Tourva', 'pokelawls', 'JesusAVGN', 'Chess', 'veloxey', '과로사1 (aram4519)', 'IlloJuan', 'Gabi', 'julien', 'imls', 'Crayator', 'NeverSayYesTwitch', 'FORMAL', 'Mendo', 'Nightblue3', 'ShivFPS', 'grafo', 'tarzaned', 'gamelifeow', 'Harmii', 'CDNThe3rd', 'AdzTV', 'Etoiles', 'CooLifeGame', 'QuarterJade', 'btscsgo', 'Doublelift', 'pankylol', 'forsen', 'daltoosh', 'Lutti', 'Adin2Huncho', 'SoyPan', 'Yamikazexz', 'hashinshin', 'HAchubby', 'LVPes', 'Annoying', '10000DAYS', 'JokerdTV', 'Gladd', 'dota2mc_ru', 'Emongg', 'SNEUX', 'GTimeTV', 'Reverse2k', 'adolfz', 'Klean', 'ItsSlikeR', 'MYM_ALKAPONE', '도현_ (d_obby)', 'AlphaCast', 'ImMarksman', '견자희 (wkgml)', 'mistermv', 'PAGO3', 'JLBichouu', 'winstrike_tv', 'Xari', 'Xposed', 'Rogue', 'Werlyb', 'Otzdarva', 'runthefutmarket', 'Valkia', 'Manyrin', 'boxbox', 'Sanchovies', 'pijack11', '탬탬버린 (2chamcham2)', 'PardonMyTake', 'Solary', 'midbeast', 'Aa9skillz', 'dafran', '울프 (lol_woolf)', 'mL7support', 'ZONY', 'supertf', 'KarasMai', 'Voyboy', 'olyashaa', 'LosPollosTV', 'BigEx', 'thedarkness', 'BeyondTheSummit_PT2', 'WePlayEsport_EN', 'Lord_Kebun', 'makataO', 'Gorgc', 'JASONR', 'QuattroAce', 'Sacriel', 'Limmy', 'LotharHS', 'FlexZ', 'ElOjoNinja', 'Maximilian_DOOD', 'Cerbero_Podcast', '악어 (jdm2088)', 'Agraelus', 'Method', 'Veritas', 'Deadlyslob', 'Tiagovski555YT', 'Nmplol', 'gratis150ml', 'maxim', 'YoMax', 'fps_shaka', 'Anton', 'Yogscast', 'Pieface23', 'PaymoneyWubby', 'Dota2RuHub', 'TSM_Hamlinz', 'BeatportOfficial', 'mch_AGG', 'CohhCarnage', 'Jay3', '태준이 (dlxowns45)', 'stylishnoob4', 'lestream', 'Naru', 'aminematue', 'dizzy', '미라지 (mirage720)', 'PietSmiet', 'cellinrj', '침착맨 (zilioner)', 'dota2ti', 'CSRuHub', '木棉花官方頻道 (muse_tw)', 'Sweatcicle', 'Rush', 'JoshOG', 'MoMaN', 'aircool', 'CouRageJD', 'Recrent', 'DuendePablo', 'Kaydop', 'aDrive', 'sacy', 'fuslie', 'PatoPapao', 'jakenbakeLIVE', 'leplol1', '쫀득이_ (pjs9073)', 'OgamingLoL', 'Trick2g', 'Destiny', 'THump', 'BeyondTheSummit', 'MuTeX', 'akagreenn', 'kurt0411', '양아지 (dkwl025)', 'GamesDoneQuick', 'Pace22', 'Payo', 'harbleu', 'NiceWigg', 'CzechCloud', 'NymN', 'Sintica', 'KingRichard', 'Opat04', 'foggedftw2', 'AndyMilonakis', 'NoWay4u_Sir', '앰비션_ (lol_ambition)', 'SilverName', 'dota2ti_ru', '금사향 (sah_yang)', 'Solaaaa', 'xChocoBars', 'MaTaFe_', 'IFrostBolt', 'WOKE', 'StarLadder5', 'xTheSolutionTV', 'Worrun_', 'Kephrii', 'ClintStevens', 'ybicanoooobov', 'Hype', 'TrU3Ta1ent', 'TSM_Viss', 'Uthenera', 'Arteezy', 'iamSometimes', 'R6esportsBR', 'Crystal_LoL', '선바 (sunbaking)', 'KriszhAdvice', '핑맨 (95pingman)', 'Dhalucard', '서새봄냥 (saddummy)', 'knekro', 'nl_Kripp', 'DarioMocciaTwitch', 'MOONMOON', 'TrilluXe', '녹두로 (nokduro)', 'MadDecentLive', 'BruceGrannec', 'ThaldrinLol', 'Flashpoint', 'Jerma985', 'Odablock', 'ALOHADANCETV', '풍월량 (hanryang1125)', 'SPYGEA', 'Vovo', 'StereOnline', 'ESL_DOTA2', 'Herdyn', 'Staiy', '꽃핀 (cherrypach)', '김진우 (jinu6734)', 'GhostFreak66', 'Datto', 'JustCooman', 'erobb221', 'ClassyBeef', 'relaxing234', 'Th3Antonio', 'Quin69', '실프_ (silphtv)', 'KabajiOW', 'BRNWOWZK1', '머독 (ajehr)', 'FantaBobShow', 'Sequisha', 'orangemorange', 'Slushpuppy', 'TpaBoMaH', 'WeAreTheVR', 'Videoyun', 'keanelol', 'Corobizar', 'c9judite', 'icebergdoto', 'Shaunz', 'DesertHeartsRecords', 'chowh1', 'sips_', 'zorlaKOKA', 'OverwatchLeague', 'ipav999', 'LRojo_', 'BigSpinCR', 'btssmash', 'PainLivestream', 'BobbyPoffGaming', 'Kotton', 'Alderiate', 'Vinesauce', 'iProMx', 'IWillDominate', 'nookyyy', 'PUBG', 'Arcadum', 'XBOCT', 'Pikabooirl', 'H2P_Gucio', 'Nick28T', 'Shlorox', '감블러 (9ambler)', 'Crocodyle_lol', 'RaulZitoYT', 'Tonton', 'dasMEHDI', 'RebirthzTV', 'JonBams', 'RiotGamesRU', 'duckmanzch', 'KVYZEE', 'FPSThailand', '_연두부_ (lovelyyeon)', 'polsatgames', 'SoloRenektonOnly', 'DougisRaw', 'HoneyMad', 'RatedEpicz', 'Ramee', 'SmiteGame', '한동숙 (handongsuk)', 'boyMinORu', 'StaysafeTV', '코렛트 (collet11)', 'MasterSnakou', 'Wackyjacky101', 'AdmiralBahroo', 'EAMaddenNFL', '헤징 (hejin0_0)', 'Dota2ruhub2', 'lolesportsla', 'primeleague', 'KarmikKoala', 'Swifty', 'k3soju', 'GernaderJake', 'Sh4dowehhh', 'limit_maximum', 'rhobalas_lol', 'NairoMK', 'SaltyBet', 'G4G_REVENANT', 'SlotRoom247', 'T90Official', 'WillerZ', 'Thijs', 'Mazarin1k', '지수소녀 (wltn4765)', '김뚜띠_ (kimdduddi)', 'yamatonjp', 'CarritosKami', 'A1taOda', 'Nattank', '공혁준 (rhdgurwns)', 'AvoidingThePuddle', 'Mathil1', 'just_ns', 'LexVeldhuis', 'JERICHO', 'KYR_SP33DY', 'AdmiralBulldog', 'iLame', 'VooDooSh', 'FifaTargrean', 'kragiee', 'AnneMunition', 'MarcaoRX', 'RiotGamesOCE', 'Draineo', 'CarTmaNzbs', 'UberHaxorNova', 'Bidule', 'Pelegrino1993', 'TMemoryy', 'Puppers', 'Daxak', 'robn_live', '나나양 (nanayango3o)', 'swimstrim', 'RduLIVE', 'CoconutB', '고차비 (kumikomii)', 'HighDistortion', 'DreamLeague', 'BeyondTheSummit_PT', 'Kyle', 'Vargskelethor', 'Zombie_Barricades', 'PsheroTV', 'tebtv', 'Remx', '옥냥이 (rooftopcat99)', 'melharucos', '러너교 (runner0608)', 'TommyKayLIVE', 'Shiphtur', 'Paoloidolo', 'iceiceice', 'Vader', 'MrBboy45', 'DreadzTV', 'richwcampbell', 'Becca', '양띵 (yd0821)', 'murilo_RT', 'Esports_Alliance', 'A_Seagull', '소니쇼 (sonycast_)', 'DizzyKitten', '쌍베 (pacific8815)', 'Sigma', 'Monkeynews', 'DownToQuest', 'mang0', '매직박 (yagubu)', 'Smoke', '케인 (kanetv8)', 'Halifax', '빅헤드 (bighead033)', '다주 (dda_ju)', '플러리 (flurry1989)', 'AkTep', 'bebe872', 'Pun1shers_TV', 'Speedrun', 'Xop0', '피닉스박1 (xkwhd)', 'cdewx', 'Magic', 'dogdog', 'Call of Duty (callofduty)', 'imaqtpie', 'koil', 'cyr', 'chess24', 'WELOVEGAMES', 'B0aty', '貝莉莓 (beryl_lulu)', 'Kurumx', '嬌兔 (zrush)', 'RiotGamesTurkish', 'TobiasFate', 'Naowh', 'OGADotaPIT', 'Shotz', 'ANGRYPUG', 'Zizaran', 'Surefour', '따효니 (ddahyoni)', '소풍왔니 (yumyumyu77)', 'UCCleague', '짬타수아 (zzamtiger0310)', 'SummonersInnLive', 'roflgator', 'skill4ltu', 'KEEMSTAR', 'FollowGrubby', 'QuickyBaby', 'C_a_k_e', 'singsing', '살인마협회장 (sal_gu)', 'LuquEt4', 'AladdinTV', 'ArQuel', 'GingiTV', 'Distortion2', 'GrandPOObear', 'KingGothalion', 'DieHahn', 'RTAinJapan', 'Anthony_Kongphan', 'Xnapycz', 'venruki', 'saintvicious', 'Gigz', '소우릎 (so_urf)', 'uhSnow', 'Rubini', 'NBA2KLeague', 'BarbarousKing', '餐餐自由配 (blusewilly_retry)', 'CasinoDaddy', '재슥짱 (pikra10)', 'DaigoTheBeasTV', 'Everyeyeit', 'PG_Esports', 'Linkus7', 'Drjayfisto', 'NoctisAK47', 'LenaGol0vach', 'PENTA', 'Tanxlive', 'masondota2', 'Moondye7', 'Buozzi', 'BoarControlHS', 'PlayHearthstone', 'The_Happy_Hob', 'Kiwo', 'Elajjaz', 'Steelmage', 'Grimmmz', '개복어 (dogswellfish)', 'resttpowered', 'qSnake', 'GoBGG', 'theRealShooKon3', '루시아 (lucia94)', 'luke4316live', 'Kamikatze', 'DatModz', 'itsHafu', 'crokeyz', 'flamuu', 'ESL_SC2', 'RiotGamesJP', 'SaltyTeemo', 'ImSoFresh', 'kutcherlol', 'Tomato', 'SolaryHS', 'Spraggy', 'Markstrom', '철면수심 (109ace)', 'easywithaces', 'ESAMarathon', 'BlackUFA', 'RoyalPhunk', '老皮 (mobilmobil)', 'SirhcEz', 'monkeys_forever', 'Ziqoftw', 'Alfie', 'DuelLinksMeta', 'CurtisRyan', 'SkyshockTV', '大丸 (wtf_winds123)', 'wingz', 'Timmac', 'Criken', 'LightFuryLF', 'Japan_ASMR', 'Sco', 'HGmony', 'Wardiii', '1PVCS', 'Froggen', 'Warcraft', 'mailand', 'twlevewinsHS', 'RaizQT', 'HellYeahPlay', 'TheNo1Alex', 'Hitch', 'GodHunt', 'AsmodaiTV', 'runitup247', 'chistor_', 'DreamHackDota2_RU', 'Weak3n', '懶貓 (failverde)', 'uzra', '포셔 (portialyn)', 'mandiocaa1', 'trihex', 'RelaxBeats', '蝦愛橘子 (shuteye_orange)', 'LigaPro1', 'OfficialAndyPyro', 'DansGaming', 'Overpow', '인간젤리 (ses836)', 'Faux', 'RayNarvaezJr', 'KheZu', 'Evangelion0', 'FanHOTS', 'Bawkbasoup', 'LobosJr', 'TidesofTime', 'Spaceboy', 'RocketBeansTV', 'allkeyshop_tv', 'Flambass', 'Aurateur', '얍얍 (yapyap30)', '逼比 (bebelolz)', 'UncleBjorn', 'ESL_CSGO_FR', 'Sologesang', 'Broeki1', 'MiltonTPike1', '햇살살 (hatsalsal)', 'Kubon_', 'kyliebitkin', '龜狗 (gueigotv)', 'Lasqa', 'Bamboe', 'CyrusTWO', 'guit88man', 'gabepeixe', 'buddha', '크캣66 (crazzyccat)', 'VGBootCamp', 'BeBePtv', 'Cryaotic', '연두는말안드뤄 (rudbeckia7)', 'AlcastHQ', 'bmkibler', 'Robbaz', 'NeVeR_LosEs', 'GoldGlove', '六希夫 (qttsix)', 'Sloot', 'Zalae', 'AnthonyZ', 'FENGRUSH', 'BananaSlamJamma', 'rxnexus', 'FACEIT TV (faceittv)', 'LPMassive', '亞洲統神 (asiagodtonegg3be0)', 'ProfessorBroman', 'Northernlion', 'shtan_udachi', 'nugiyen', '羅傑 (roger9527)', 'Monstercat', '웁_게임방송 (alenenwooptv)', '홍방장 (game2eye)', 'VaporaDark', 'StarCraft', 'CeMka', 'CuteDog_', 'Alkaizerx', 'Sjow', 'Towelliee', 'GarenaTW', 'ALLinPav', 'Sonecarox', 'Back2Warcraft', 'RealKraftyy', 'WagamamaTV', 'jorbs', 'Krayn_Live', '김나성 (naseongkim)', '超負荷 (sam1268)', 'Bonjwa', 'CapcomFighters', 'hexy', 'Strippin', '쉐리 (kss7749)', 'Mmorpg', 'Altair', '接接 (godjj)', 'purple_hs', '聶寶 (nielnieh345)', 'BreaK', '강퀴 (kangqui)', '狂暴小建 (a541021)', 'HeyarTV', 'Multiplayerit', 'SayNoToRage', 'RiffTrax', '殺梗 (xargon0731)', 'Lapi', '西門夜說 (westdoor)', 'スタンミ (sutanmi)', 'ZiggyDLive', 'Killars', '똘똘똘이_ (jungtaejune)', 'Giantwaffle', 'GN_GG', '룩삼 (looksam)', 'Savjz', 'wintergaming', 'Igromania', 'SilentSentry', 'BurkeBlack', 'Calebhart42', 'Day9tv', 'LAGTVMaximusBlack', 'TaKeTV', 'kyo1984123', 'Ko0416', 'MarketTradersTV', 'NiteNightKid', 'H0llyLP', '踢虧 (takesipon)', 'SheriffEli', '자동 (tranth)', '스피드소닉 (dragon3652)', 'BotanicX', 'BikeMan', 'OgamingSC2', '小夜夜 (albislol)', 'StreamerHouse', '무굴 (moogrr1211)', '김도 (kimdoe)', 'RyuQuezacotl', '球球 (lilballzlolz)', 'しゃるる (syaruru3)', '칸데르니아 (jmjdoc)', 'CalebDMTG', 'Destructoid', 'Ezekiel_III', 'armateam', 'NumotTheNummy', 'iateyourpie', 'OuterHeaven', 'CaMaK', 'JeffHoogland', 'Sinner666', 'P4wnyhof', 'Wingsofdeath', 'CrReaM', 'itmeJP', 'BlackFIreIce', 'Fairlight_Excalibur', '貝克 (slrabbit99)', 'livekiss', 'MANvsGAME', 'voicetv', 'Dyrus', '마스카 (newmasca)', 'Amaz', 'TSM_TheOddOne']\n"
     ]
    }
   ],
   "source": [
    "#your code here \n",
    "def followers():\n",
    "    liste_follows = []\n",
    "    liste_nom = []\n",
    "    files4 = open(\"twitchdata-update.csv\",\"r\",encoding=\"utf-8\")\n",
    "    next(files4)\n",
    "    for lineas in files4:\n",
    "        premier = lineas.strip()\n",
    "        lebon = premier.split(\",\")\n",
    "        liste_follows.append(lebon[6])\n",
    "        liste_nom.append(lebon[0])\n",
    "    for indexity in range(len(liste_follows)-1):\n",
    "        for indexxx in range(indexity+1,len(liste_follows)):\n",
    "            if int(liste_follows[indexity]) < int(liste_follows[indexxx]):\n",
    "                liste_follows[indexity],liste_follows[indexxx] = liste_follows[indexxx], liste_follows[indexity]\n",
    "                liste_nom[indexity],liste_nom[indexxx] = liste_nom[indexxx], liste_nom[indexity]\n",
    "    return liste_nom\n",
    "print(followers())"
   ]
  },
  {
   "cell_type": "code",
   "execution_count": 8,
   "metadata": {},
   "outputs": [
    {
     "data": {
      "text/plain": [
       "True"
      ]
     },
     "execution_count": 8,
     "metadata": {},
     "output_type": "execute_result"
    }
   ],
   "source": [
    "#your code here\n",
    "def followers():\n",
    "    liste_follows = []\n",
    "    files4 = open(\"twitchdata-update.csv\",\"r\",encoding=\"utf-8\")\n",
    "    next(files4)\n",
    "    for lineas in files4:\n",
    "        premier = lineas.strip()\n",
    "        lebon = premier.split(\",\")\n",
    "        liste_follows.append(int(lebon[4]))\n",
    "\n",
    "    liste_followers = liste_follows[:]\n",
    "    for indexity in range(len(liste_followers)-1):\n",
    "        for indexxx in range(indexity+1,len(liste_followers)):\n",
    "            if int(liste_followers[indexity]) < int(liste_followers[indexxx]):\n",
    "                liste_followers[indexity],liste_followers[indexxx] = liste_followers[indexxx], liste_followers[indexity]\n",
    "\n",
    "    return liste_followers == sorted(liste_follows, reverse = \"True\")\n",
    "\n",
    "\n",
    "followers() "
   ]
  },
  {
   "cell_type": "markdown",
   "metadata": {},
   "source": [
    "### Quesiton 4: Searching\n",
    "- Implement a linear search function to find a channel by its name.\n",
    "\n",
    "- Sort the dataet by ```Followers``` and implement a binary search to quickly find the number of followers for a given channel.\n",
    "\n",
    "- Compare the number of steps taken by linear vs. binary search."
   ]
  },
  {
   "cell_type": "code",
   "execution_count": 10,
   "metadata": {},
   "outputs": [
    {
     "name": "stdout",
     "output_type": "stream",
     "text": [
      "Channel numéro 875\n"
     ]
    }
   ],
   "source": [
    "def linear_search(name):\n",
    "    #Complete de code \n",
    "    derniere = open(\"twitchdata-update.csv\", \"r\",encoding=\"utf-8\")\n",
    "    numero = 0\n",
    "    for lignes4 in derniere:\n",
    "        changement = lignes4.strip()\n",
    "        vrailiste = changement.split(\",\")\n",
    "        if name == vrailiste[0]:\n",
    "            print(f\"Channel numéro {numero}\")\n",
    "        numero += 1\n",
    "linear_search(\"StRoGo\")"
   ]
  },
  {
   "cell_type": "code",
   "execution_count": 12,
   "metadata": {},
   "outputs": [
    {
     "name": "stdout",
     "output_type": "stream",
     "text": [
      "({'Channel': 'Locklear', 'Watch time(Minutes)': '619247415', 'Stream time(minutes)': '108450', 'Peak viewers': '50103', 'Average viewers': '5512', 'Followers': '824676', 'Followers gained': '469017', 'Views gained': '17854413', 'Partnered': 'True', 'Mature': 'False', 'Language': 'French'}, 9)\n"
     ]
    }
   ],
   "source": [
    "#your code here \n",
    "import csv\n",
    "\n",
    "def research(name):\n",
    "    with open(\"twitchdata-update.csv\", newline='', encoding='utf-8') as f:\n",
    "        lecteur = csv.DictReader(f) \n",
    "        data = list(lecteur)\n",
    "    data = sorted(data, key=lambda x: x[\"Channel\"])\n",
    "\n",
    "    left = 0\n",
    "    right = len(data) - 1\n",
    "    etapes = 0\n",
    "\n",
    "    while left <= right:\n",
    "        milieu = (left + right) // 2\n",
    "        etapes += 1\n",
    "        nom_milieu = data[milieu][\"Channel\"]\n",
    "\n",
    "        if nom_milieu == name:\n",
    "            return data[milieu], etapes\n",
    "        elif nom_milieu > name:\n",
    "            right = milieu - 1\n",
    "        else:\n",
    "            left = milieu + 1\n",
    "\n",
    "    return None\n",
    "\n",
    "print(research(\"Locklear\"))"
   ]
  },
  {
   "cell_type": "markdown",
   "metadata": {},
   "source": [
    "### Question 5 basic Stats\n",
    "\n",
    "\n",
    "- Compute the average watch time per channel.\n",
    "\n",
    "-  Find the channel with the maximum average viewers.\n",
    "\n",
    "-  Find the top 3 languages by total views gained."
   ]
  },
  {
   "cell_type": "code",
   "execution_count": 17,
   "metadata": {},
   "outputs": [
    {
     "name": "stdout",
     "output_type": "stream",
     "text": [
      "[1908.6854472386701, 1147.173316525312, 3193.301170773378, 1006.4560477584699, 410.6767989315915, 2346.622683470659, 824.8498927542414, 6489.315361545235, 829.3826638801145, 1099.0971935609089, 538.2872286260846, 1062.4622747228266, 596.0230130926226, 450.09099335565156, 604.9485710671117, 827.2757028093138, 836.0750092779961, 4422.458453417468, 596.4946124011432, 1604.3641169252567, 4475.585064486412, 3093.996693478338, 764.9920833169223, 413.3900339226165, 1437.6714861604876, 463.00340625244525, 942.8838212119099, 2693.6501327560018, 4209.391109669046, 939.0065973986207, 3135.7977076562174, 640.6246366975075, 1654.5413981079605, 368.79256384379124, 2831.857250867767, 219.895659853665, 1371.724349619245, 1066.5457105711382, 1510.1069652993087, 3419.887679670499, 466.9436582392199, 1256.7750308321852, 3759.277449609602, 745.6191710295717, 1383.1920310701955, 1822.3170653330924, 1446.2136295747887, 717.3131111532269, 2848.92452613465, 1449.7276572526034, 1711.393332561639, 450.1780701050774, 938.4924491881458, 2655.354982412152, 617.4623915329356, 3197.928730796526, 2138.4472721825637, 3215.923345628458, 1214.1357750186774, 2869.066584437701, 827.5548817198483, 1303.1351684094338, 1527.714608864412, 2204.031979529536, 736.8116006505992, 3922.3436538615874, 692.6672766329859, 691.5501950362726, 3726.102871199423, 1898.4072458170049, 2617.861838849694, 846.0561511735905, 1202.9316254382356, 1326.752746215006, 456.9642022315327, 584.3961109997963, 1778.1502586820316, 686.7927194099109, 2903.566370258814, 1228.402130972202, 1403.2469849484341, 1534.120620174673, 836.782565253861, 281.4591847556557, 1147.928798675641, 1638.3738311672457, 1491.1907070610928, 216.56661663316967, 1257.524311371673, 1400.5233250702554, 179.65816318451152, 1081.0686302910697, 1793.304566084445, 2254.876831091181, 340.36967803231033, 1883.4649236180267, 114.7336773731009, 573.1423184287246, 813.2908825549924, 695.7712996793917, 2019.0807356557232, 2004.9066544215589, 2459.6166273700474, 327.8616223483372, 1692.919743983187, 704.7662298208875, 669.6863666602287, 5550.65293513916, 631.9326785475445, 1500.1330948002746, 4379.169002619861, 448.15476737137925, 1052.3168162242623, 1006.440329899639, 1517.1360027203618, 3168.5259756700384, 1879.4205339907603, 1503.4938199457088, 349.8224402257126, 866.4035143855468, 8546.35447581733, 593.8956246382073, 2094.839208116203, 359.48892571637816, 667.628534074044, 490.5681480016993, 1058.7900424318102, 2204.6319391752736, 4026.156596843386, 1608.6973771782637, 310.7876589001287, 9829.054348470476, 798.4847655779197, 800.5977399309942, 1960.5405766110973, 850.1535577128573, 799.1303885045237, 1462.0229444521601, 1139.583154610694, 1099.5176754015215, 1536.0720989498868, 572.529947108132, 670.1397604641008, 1764.9772562290054, 473.2865833395501, 5170.403831379644, 1885.047673324649, 333.6865435834313, 1047.0531806226115, 547.0121888316655, 750.8978253277651, 1652.3052766502883, 361.9079238601151, 1461.0409703363275, 1339.0484085315475, 696.9740219402139, 1185.958909696892, 1291.9574596415011, 1850.294443674657, 1062.2663485727317, 778.4857209601121, 2172.9002455661666, 224.87332099555886, 462.15849644172977, 1945.1348993665595, 1096.6251627862655, 4321.861906988134, 314.2765344398663, 2800.3812342156502, 333.9566140651091, 564.0693332607852, 829.4362538683256, 3820.3067545566455, 2612.3806057472516, 1004.1012920988356, 1529.8121847588457, 413.45072470104714, 397.91379979224973, 1914.1928166351606, 439.1662457069933, 848.8036646595477, 5145.168058330188, 1071.7315104921133, 367.3950677498213, 569.6277076297068, 3350.7890340905665, 1096.740656679087, 514.3189171564488, 507.6789453400989, 432.8318389754411, 1909.4933406109742, 1980.676939145771, 1973.2992991652247, 1641.9477820246937, 1609.4663759127975, 1056.949119236026, 944.4777664956846, 1213.5538415296965, 1727.4595822745423, 421.42749379723574, 1023.2518996761177, 969.2279387371448, 2238.2854728291413, 522.3520697058971, 5453.287224365609, 1599.1497709418063, 506.88082422761596, 516.3821887381438, 2488.363352285057, 903.9501963650129, 292.16992637775826, 988.7829118817003, 606.2686111745561, 1007.3024386479395, 567.5624349111432, 2981.2279873750035, 2749.9647481619663, 992.2030074739841, 291.28284373137467, 181.43841002551292, 166.9164408295449, 1001.9631491814336, 693.3982360575117, 2815.667876968195, 612.9575734164524, 350.60261644838477, 993.1180871014794, 3817.2048501863596, 615.8261921229812, 307.40448554976484, 1427.18616141966, 711.2448797403205, 1612.966745170939, 1724.7675315725608, 1174.2458880068568, 1517.1419365286044, 1659.6859719047482, 3447.1925182069026, 643.1552777060778, 2037.774515190546, 1049.3706359471403, 743.2867644868905, 2020.3571509950737, 555.5018664298508, 299.1171411802427, 1772.969515129214, 1388.1257583870079, 2573.0754296270584, 2418.0405405405404, 815.6992686357244, 1772.7431885125184, 942.4065746831664, 1657.414261499524, 400.9017280437347, 1688.4506623893542, 1176.2360665264557, 1402.7643148757777, 599.0876931868581, 592.5438892045174, 2629.751195091655, 615.2924459907973, 355.7886174541284, 760.082349431206, 865.1627507897567, 1178.6560245692644, 328.7084133243605, 808.7394776751423, 1514.4253102836878, 682.573317797261, 480.57903672120966, 2863.4315122834855, 608.867244212456, 768.5494815161547, 395.857304111443, 1350.5144582704918, 947.6899442917905, 621.0128085248209, 1417.3513409501752, 509.06373234472693, 474.0365115161899, 2671.2427162407785, 322.9464850401362, 2759.1147200813075, 1800.3989693292328, 672.0664739132922, 2198.0001196560743, 2414.4468994698395, 1246.2638603530002, 833.6254858796968, 1555.4321442157836, 359.95300834680893, 2556.405551666577, 752.3629801071231, 576.6682844135781, 1535.4653803186322, 1007.9465946682493, 376.657587455415, 492.7842047111742, 1024.8780849783375, 1101.4797730340304, 1348.5481385278254, 251.59909797009402, 721.7656732840154, 103.75037132361517, 991.3544600425469, 1342.5336522581435, 867.4096553514512, 983.1247220046771, 2156.5809392895303, 1995.8633003557136, 1630.5363283972324, 596.2584888544369, 480.949852491465, 1503.2957145938994, 1461.4683560454214, 1127.2378489352898, 205.80417552339634, 696.4298467929793, 398.51008279575353, 2028.6363531786888, 898.7308841489174, 3390.670540383498, 808.7187017579097, 605.1903742100156, 1233.0808403769622, 2171.5126570232205, 571.5303719194626, 1316.805341570887, 2413.8630819848822, 1406.8299372068204, 1295.1490968411458, 1652.376774761125, 988.6619299356491, 2011.155188752804, 392.35210542644404, 198.0501687393423, 303.6602918738543, 1381.0069482027925, 421.21150017417574, 451.15729125672306, 3845.1954994280914, 795.5708923276367, 1000.1607837751225, 2008.647286655168, 1989.6652792336006, 756.1862659748581, 565.569212652991, 2395.3518760087554, 982.9531448827486, 223.2189482451185, 912.7886803868957, 1754.1667853933322, 1321.1580202150644, 356.14404069426723, 414.84894032077483, 684.5860778831839, 977.8559765465543, 1020.3406159277388, 693.0983549277452, 652.7312103654932, 243.08173661481698, 563.4424058314456, 1469.067332223548, 3325.5622970432405, 5103.036302818634, 1521.6018018987434, 1217.576360621729, 1540.4555791652774, 919.4966848215694, 2829.6783534343285, 1237.857091071666, 2506.42191760691, 831.1488654735115, 448.2018644045459, 786.9050961998364, 353.9968518749913, 192.11317555954864, 1206.3501253053325, 359.2314080700288, 217.23242327326625, 1767.7716760974238, 1010.0793811407814, 1017.0588035361654, 9643.973730071646, 1146.0675876775797, 550.1887115669415, 2374.096523930272, 1369.6947100034242, 1100.467385462851, 748.5635950706104, 558.4320341040561, 3076.0106622537364, 3711.5902223795497, 353.75445793663636, 174.1668039355025, 4247.734772954852, 329.1034023202108, 1298.4932775246655, 1134.988708688059, 8453.973455963676, 591.3351803326233, 96.44023230725188, 234.16194472657295, 998.7842669845054, 1782.6329918538631, 418.8104150483146, 1985.9780328230893, 1711.614533607027, 792.1846258375638, 436.5327923758487, 328.1277993585072, 748.7550077730634, 574.8688751281227, 857.0235842211554, 732.6677723084559, 1389.1175097887979, 683.3460398599005, 3418.8147486603725, 2249.4543597548764, 1837.4311449342695, 522.9359044099018, 2082.2670138398794, 235.05031095137784, 1745.6069551758142, 509.5188095639243, 207.19202213263915, 3247.037557140675, 479.1883651729169, 682.8240973824965, 1271.6069596542457, 815.3646392162372, 1705.4137178135823, 502.079749739079, 8604.506752226798, 805.0729540876406, 390.82929530766415, 187.36960165389902, 762.4165801062761, 906.4728392279005, 2111.448314293675, 1728.7450631911533, 1650.437979599917, 658.4800343171933, 2768.0612869521165, 209.0538631022678, 1575.9451408675538, 852.3748045093184, 762.3567878934667, 760.8149190608137, 905.6254672708574, 614.4683531533955, 553.2381837464567, 213.3590503283448, 689.1936120887177, 1295.3830192997177, 426.79763365042396, 2405.8430927795916, 695.855843812191, 1385.6998632672, 152.38987180325725, 364.709635692347, 912.3968289155225, 2397.7225762011367, 580.3518902813685, 1405.5365672523503, 555.0117458622531, 668.1655038500168, 1442.1446899127834, 253.1358153365112, 1429.6708064851382, 1875.752466544413, 342.7525375982804, 1390.6606041836762, 295.24493680806233, 761.7971876389506, 2749.1164293366664, 439.44574883810685, 402.47750207881285, 139.8137230270258, 1247.275589386956, 678.3851944131536, 965.8100290439215, 987.9722006503907, 1644.665683647922, 963.8399078811477, 501.1769664482582, 675.9259032455603, 2791.8347892401553, 508.5838446561069, 379.27828662859736, 957.2309638209183, 2035.5017245050033, 721.5826157580735, 571.3737527583229, 835.3845829527089, 757.3051131601006, 844.0489666409399, 2237.3919461558175, 2189.1925309813555, 257.10337335782816, 768.8097546436256, 591.8969633126947, 505.42070390424624, 2059.3208573087686, 899.9681882331166, 1846.7414595904404, 969.9452568428947, 813.4687046806364, 349.0717060062765, 741.6452897867321, 729.8461489948759, 582.1312068174832, 910.8614102255746, 2801.746952812648, 980.1027419169109, 2727.6746919296247, 532.0087553143206, 373.0429395782624, 911.973722522925, 1126.2354829642122, 357.12070798566367, 711.7983023822923, 734.7670012984747, 774.5514446733523, 437.1312802794881, 952.4724299577597, 368.3695435454085, 502.4212051320943, 2721.8244568771343, 849.0766642248878, 923.3584819482218, 1244.7639191604521, 1296.4362731060762, 453.4659139692625, 1075.6050550691896, 1474.9337950361362, 1022.7088278169211, 215.365058920495, 770.9860213119438, 181.58788904733888, 867.760905840286, 738.1318993410442, 4100.463349898351, 1901.4123592362034, 3094.6491627748037, 1601.8886124359524, 1833.83238240142, 261.54335405165426, 700.217753708805, 1369.1094601444684, 551.0842868925928, 844.018505839316, 2807.4165210132264, 359.8029821539079, 217.2548740838483, 811.9263263081396, 2088.5043597846443, 784.970979217375, 1058.0645964217088, 744.1093100392632, 113.53956405184404, 667.3292837909254, 441.63008875721164, 1890.2195991210676, 3693.871339917839, 511.27703366101406, 358.22302511323784, 828.2549282798278, 256.6677378605565, 1150.943055770806, 3135.4438955859696, 1467.4263959390862, 1235.4730093578728, 502.531401072018, 421.2939333342865, 816.5010593472516, 2221.5606580737094, 1061.8874672915042, 2245.9393830233166, 803.0111397748593, 1443.126700841719, 1604.9449276269952, 331.71561445119926, 1398.717288233, 355.40320771158775, 162.00107621439207, 986.6338965347157, 920.7404238218015, 923.2980356811254, 870.766709679632, 236.96497720800048, 428.7333485502698, 617.1600627983606, 1885.400461498381, 384.0304526670963, 4026.7262259873523, 847.4444164514707, 3063.4800876872487, 2812.1524808277372, 217.19437997697582, 942.0385693721834, 1357.031883054747, 209.05993224850027, 488.62284146538275, 1770.305783439942, 316.5411619106552, 524.9100847522698, 166.51059923639096, 419.8705696848986, 2562.533636375477, 2292.1640198684763, 731.1765627798675, 695.1558239604635, 953.773450990722, 619.9513265073082, 1486.1021493109429, 187.48283957110445, 999.3108159975436, 632.0486353129589, 405.4848571452412, 1175.69335842936, 1055.4108818011257, 1053.681432134454, 260.9117409560724, 693.3057549318778, 248.7886681129768, 714.9375111355267, 1568.3595774854516, 600.3964482201916, 1801.272722973612, 1722.9692135993685, 221.05117849275476, 480.9130040261087, 2569.5980104370515, 1614.79208191827, 362.16921288034905, 335.29324298015456, 989.4806858806036, 137.05192547782434, 922.205704765801, 2159.829541517496, 2000.9043681312796, 1039.2382151131706, 1235.9730098579605, 553.5979327150521, 842.0339742748095, 318.39703638241355, 2030.243787835741, 697.4606679858848, 1490.2472181906144, 260.8753462133184, 977.3197287990818, 510.34664297606224, 235.00180415393558, 525.9466118148695, 1218.0446499109546, 210.52060729995938, 1078.3144347330758, 347.61094229582824, 520.1712886034318, 341.12242898749486, 928.4156864153324, 1429.1264046275662, 4575.765480562239, 1277.637833204644, 1163.530175336627, 1611.6988517277825, 2507.744667503137, 247.10958677913393, 95.61004345757605, 2230.453294308133, 479.12578584357027, 310.1455812839681, 1657.4179997217973, 583.2181702481766, 809.4976766325906, 4224.231752040696, 6191.235686029565, 529.8716534777672, 598.4268006012934, 747.3459389934807, 272.61915753825957, 453.2307050064342, 1359.1977581881372, 456.4133423612475, 786.8962619996782, 686.3201896680808, 943.3291887353055, 532.527008341817, 488.5988307754217, 301.6138426476246, 4536.030070294194, 808.5638446104114, 1008.3367268803731, 1210.715121747309, 545.7464098293686, 1721.6075536429619, 529.4728992826819, 998.6874327194856, 1267.0729079154034, 940.858606457086, 416.0853472334452, 537.4315642066064, 934.8558219885049, 1810.009638782669, 1154.002468023295, 480.2393722156649, 1128.0409518539016, 921.5416783352362, 1092.0609590222034, 582.6696928472303, 229.78051389693695, 396.41675592050456, 1392.4649134312697, 101.03287556103929, 2277.5202946078166, 675.3402103785697, 1450.5883260610528, 660.4052058262745, 1666.778529780286, 558.3684887523601, 195.95331443812282, 823.0914304943889, 1779.5443471841384, 405.0465373561491, 823.7906659228375, 78.5482247893705, 1320.2824201146668, 713.4276492875276, 541.6564985451018, 268.8580045568628, 626.9714786792729, 4498.849631343845, 2107.1163072572094, 304.94287714244984, 1004.1086217496654, 532.9286537722556, 651.9623877157503, 1597.8046721216565, 1121.9636442504507, 634.3862424505706, 2862.566540583683, 573.9497253216193, 842.651555855759, 435.87980439030366, 629.1948870735223, 207.42067799017096, 231.24243316344368, 1841.1785066011253, 1393.9472942502819, 876.0783639800653, 1147.9214647140905, 368.0213240147193, 345.6100052455758, 1180.1393189977155, 261.632795805255, 427.39407024663063, 665.6616313209695, 44401.81967213115, 223.13585967576222, 199.3412661626736, 465.230504508027, 1009.307625, 2123.191124260355, 1488.915733239837, 566.5133907078573, 1047.5459153831157, 184.9490410227249, 454.47907562739067, 654.8705213961242, 943.49441918148, 1766.898206044777, 893.8211038452064, 964.450794552675, 200.41664520166006, 659.087378680908, 226.79836197782345, 216.92224806032485, 934.7174185132301, 107.86252535462556, 512.7219122863593, 406.0960290026136, 791.6897774749772, 389.29999457532165, 1095.3164117794, 419.9069460590406, 214.8697677658319, 853.1908646003262, 2190.37292586178, 2740.147645720287, 701.2546455053053, 2006.280487021744, 1083.9968106395397, 160.20648718713673, 1522.0654438738077, 864.940196187716, 630.7411024967951, 1355.4297703102825, 1283.016996696931, 774.1032326906025, 499.7557113482182, 1015.7445057477319, 374.6868694481045, 564.8151557943771, 1447.5040191792414, 554.9299383962835, 773.4948294420022, 659.6636425659804, 1345.2498436825742, 566.7248401962241, 288.0281265762047, 749.4931889351535, 296.34620958502, 1039.3588148431731, 669.7757672684977, 1428.336894620417, 172.8649779964735, 2140.3552663258224, 1383.886128839708, 1057.0956362411018, 366.3036536136355, 181.76850773762985, 891.2955960656049, 749.8306601603904, 991.8291059602649, 224.5275460980118, 204.24148257079716, 1164.8083821104537, 4895.93627724986, 2066.8700401651076, 295.5984929261422, 715.0139030784355, 342.1836597564411, 1733.7216415112027, 785.2205936999013, 2286.2850109155092, 1827.6161159794453, 3126.7337293223477, 779.9618973726724, 509.1655277461894, 560.8040524735504, 200.0875829194489, 334.0663314000441, 1835.1853790841428, 752.5805457427301, 4305.093844511653, 1973.3131496138076, 1436.6151120902678, 334.7925961082107, 1068.6483730073683, 187.65089022505617, 4231.113162753891, 491.2639405204461, 159.60767153679834, 878.982653882749, 635.4979588590818, 612.2151234251767, 836.6037042438384, 238.72070826970398, 279.6168655575804, 287.6510418558473, 588.1145723663839, 1471.3697688363245, 1179.357305159803, 224.43781050544405, 2754.36333326872, 222.65685676942604, 394.57718034689174, 1495.7659358441476, 468.182277801169, 1193.6963120159626, 814.8128365392939, 1270.4295829842438, 306.1608533150329, 515.9021447622955, 1815.9747208436725, 896.4740055893725, 1581.522378142175, 420.2527721366569, 264.8573476309905, 334.766676219818, 1491.2924641721015, 1188.0031547881542, 1401.6378610718687, 923.6994764190234, 280.916131564645, 2379.477541815448, 392.5703484864716, 1763.2984260044827, 448.8405677824146, 2052.0133811865835, 1000.3039781376401, 681.9915500081822, 893.3142489086094, 1053.214935199466, 2072.540054059768, 454.4677080533238, 717.2275691512822, 630.7717310549777, 656.0396214456094, 183.8685036240387, 252.91843615535223, 190.3217617915264, 1343.6425312378851, 534.0081371855144, 471.8533505875769, 492.7212399087399, 1551.5353630949633, 1530.6326973609048, 667.0182285825371, 252.93439011650352, 448.7426321823577, 779.7515351442566, 1088.5604299350023, 423.50636216064214, 3731.733656310734, 883.9068602904357, 352.1993388288967, 1612.1812445073724, 257.9893564854521, 539.843395230673, 664.7455926254639, 1361.2619064856087, 4255.861968455485, 62.08239900245604, 478.40325936199724, 1900.5379168238674, 135.20257314409918, 567.9715444321517, 621.7958512160229, 573.500585743101, 707.6515003261578, 380.12864731943375, 1363.0339935619843, 1636.8942714631198, 378.5176621764557, 1834.355918321236, 2204.055897662709, 1387.8189585684347, 1026.4633273703041, 472.84955365984257, 803.7345607811106, 369.61167304459576, 478.8520015468019, 1502.385261683879, 436.957135623919, 495.8731400361563, 812.2149498990385, 621.6362326853684, 1034.5032847040527, 370.15132271450074, 215.05113180718507, 820.8842723095339, 207.7829352426464, 1278.0245481927711, 216.92249456498573, 1469.5345772352084, 555.7466625203665, 1535.7711033062856, 467.47188442563106, 870.9646952074569, 496.9977515811652, 2114.6926981255338, 1163.4782307905175, 650.9153521956057, 570.024997848917, 67.41130630608909, 1589.6290932547463, 2050.083570238212, 545.3896330099454, 1443.3335451300238, 1659.2713507769956, 1003.2066854650182, 455.36038171362725, 17574.23824274852, 975.8222587461845, 728.3208460203265, 192.64673958420306, 755.1491491916411, 344.060708608648, 1289.3988665497234, 161.86421954490888, 621.0403742245347, 1793.4781666016218, 1733.1757219296162, 374.04512726812237, 1202.10019501499, 996.7337722969927, 107.21972159706593, 709.971894112435, 844.7693703564214, 3431.1003339827444, 741.8900229896126, 480.29607611379623, 2554.3906097027516, 203.55397747567397, 574.6567031874379, 1122.7153702277478, 223.4212415471115, 684.35058498037]\n"
     ]
    }
   ],
   "source": [
    "#your code here \n",
    "last_file = open(\"twitchdata-update.csv\", \"r\",encoding=\"utf-8\")\n",
    "next(last_file)\n",
    "average = []\n",
    "for lignes16 in last_file:\n",
    "    change = lignes16.strip()\n",
    "    list_changed = change.split(\",\")\n",
    "    lol = int(list_changed[1]) / int(list_changed[5])\n",
    "    average.append(lol)\n",
    "print(average)"
   ]
  },
  {
   "cell_type": "code",
   "execution_count": 15,
   "metadata": {},
   "outputs": [
    {
     "name": "stdout",
     "output_type": "stream",
     "text": [
      "English\n",
      "{'English': 485, 'Portuguese': 61, 'Spanish': 68, 'German': 49, 'Korean': 77, 'French': 66, 'Russian': 74, 'Japanese': 10, 'Chinese': 30, 'Czech': 6, 'Turkish': 22, 'Italian': 17, 'Polish': 12, 'Thai': 11, 'Arabic': 5, 'Slovak': 1, 'Other': 1, 'Hungarian': 2, 'Greek': 1, 'Finnish': 1, 'Swedish': 1}\n"
     ]
    }
   ],
   "source": [
    "file2 = open(\"twitchdata-update.csv\", \"r\", encoding=\"utf-8\")\n",
    "dico_tri = {}\n",
    "counter = 0\n",
    "number_of_followers = 0\n",
    "next(file2)\n",
    "for ligne in file2:\n",
    "        liste = ligne.strip()\n",
    "        parties = liste.split(\",\")\n",
    "        langue = parties[-1]\n",
    "        number_of_followers += int(parties[5])\n",
    "        if langue in dico_tri:\n",
    "            dico_tri[langue] +=1\n",
    "        else:\n",
    "             dico_tri[langue] =1  \n",
    "plus_grand = 0\n",
    "meilleur = \"\"\n",
    "for language,nombre in dico_tri.items():\n",
    "    if plus_grand < nombre:\n",
    "         meilleur = language\n",
    "         plus_grand = nombre\n",
    "print(meilleur)\n",
    "print(dico_tri)"
   ]
  }
 ],
 "metadata": {
  "kernelspec": {
   "display_name": "venv",
   "language": "python",
   "name": "python3"
  },
  "language_info": {
   "codemirror_mode": {
    "name": "ipython",
    "version": 3
   },
   "file_extension": ".py",
   "mimetype": "text/x-python",
   "name": "python",
   "nbconvert_exporter": "python",
   "pygments_lexer": "ipython3",
   "version": "3.13.7"
  }
 },
 "nbformat": 4,
 "nbformat_minor": 2
}
